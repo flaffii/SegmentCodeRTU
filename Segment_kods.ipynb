import os
import json
import numpy as np
import cv2
import tensorflow as tf
from tensorflow.keras import layers

from tensorflow.keras.layers import (
    Dropout, Activation, Input, Conv2D, BatchNormalization, ReLU,
    MaxPooling2D, UpSampling2D, Concatenate, Multiply, Add
)
from tensorflow.keras.models import ModelQ
from tensorflow.keras.metrics import MeanIoU
from tensorflow.keras.losses import Loss
import supervisely as sly
from sklearn.model_selection import train_test_split
from skimage.metrics import adapted_rand_error
import matplotlib.pyplot as plt
from tqdm import tqdm
import keras
from sklearn.metrics import f1_score, precision_score, recall_score, accuracy_score
from scipy import ndimage
from tensorflow.keras.callbacks import EarlyStopping, ModelCheckpoint

# pielāgošana
class Config:
    IMAGE_DIR = "/mnt/c/dataset_folder/ds/img/"
    MASK_DIR = "/mnt/c/dataset_folder/ds/ann/"
    MODEL_DIR = "/mnt/c/saved_models/"
    IMG_SIZE = (256, 256)
    BATCH = 3
    AUTO_THRESH = False

os.makedirs(Config.MODEL_DIR, exist_ok=True)
